{
  "nbformat": 4,
  "nbformat_minor": 0,
  "metadata": {
    "colab": {
      "provenance": []
    },
    "kernelspec": {
      "name": "python3",
      "display_name": "Python 3"
    },
    "language_info": {
      "name": "python"
    }
  },
  "cells": [
    {
      "cell_type": "code",
      "source": [
        "import pyspark\n",
        "from pyspark.sql import SparkSession\n",
        "from pyspark.sql.types import StructType, StructField, StringType, IntegerType\n",
        "from pyspark.sql.functions import *"
      ],
      "metadata": {
        "id": "DcfuJ_fJTRjy"
      },
      "execution_count": 96,
      "outputs": []
    },
    {
      "cell_type": "code",
      "source": [
        "spark = SparkSession.builder.appName('abc').getOrCreate()"
      ],
      "metadata": {
        "id": "zujnUfq6T6FJ"
      },
      "execution_count": 97,
      "outputs": []
    },
    {
      "cell_type": "code",
      "source": [
        "df = spark.read.format(\"csv\")\\\n",
        ".option(\"header\", \"True\")\\\n",
        ".option(\"inferSchema\", \"True\")\\\n",
        ".load(\"/googlestore.csv\")"
      ],
      "metadata": {
        "id": "cq0YlcEuUGyC"
      },
      "execution_count": 98,
      "outputs": []
    },
    {
      "cell_type": "code",
      "source": [
        "df.show(5)"
      ],
      "metadata": {
        "colab": {
          "base_uri": "https://localhost:8080/"
        },
        "id": "5h504ZYXVJRc",
        "outputId": "dd6501ac-cb39-4541-fa67-b03d4e5e844e"
      },
      "execution_count": 99,
      "outputs": [
        {
          "output_type": "stream",
          "name": "stdout",
          "text": [
            "+--------------------+--------------+------+-------+----+-----------+----+-----+--------------+--------------------+----------------+------------------+------------+\n",
            "|                 App|      Category|Rating|Reviews|Size|   Installs|Type|Price|Content Rating|              Genres|    Last Updated|       Current Ver| Android Ver|\n",
            "+--------------------+--------------+------+-------+----+-----------+----+-----+--------------+--------------------+----------------+------------------+------------+\n",
            "|Photo Editor & Ca...|ART_AND_DESIGN|   4.1|    159| 19M|    10,000+|Free|    0|      Everyone|        Art & Design| January 7, 2018|             1.0.0|4.0.3 and up|\n",
            "| Coloring book moana|ART_AND_DESIGN|   3.9|    967| 14M|   500,000+|Free|    0|      Everyone|Art & Design;Pret...|January 15, 2018|             2.0.0|4.0.3 and up|\n",
            "|U Launcher Lite –...|ART_AND_DESIGN|   4.7|  87510|8.7M| 5,000,000+|Free|    0|      Everyone|        Art & Design|  August 1, 2018|             1.2.4|4.0.3 and up|\n",
            "|Sketch - Draw & P...|ART_AND_DESIGN|   4.5| 215644| 25M|50,000,000+|Free|    0|          Teen|        Art & Design|    June 8, 2018|Varies with device|  4.2 and up|\n",
            "|Pixel Draw - Numb...|ART_AND_DESIGN|   4.3|    967|2.8M|   100,000+|Free|    0|      Everyone|Art & Design;Crea...|   June 20, 2018|               1.1|  4.4 and up|\n",
            "+--------------------+--------------+------+-------+----+-----------+----+-----+--------------+--------------------+----------------+------------------+------------+\n",
            "only showing top 5 rows\n",
            "\n"
          ]
        }
      ]
    },
    {
      "cell_type": "code",
      "source": [
        "df.count()"
      ],
      "metadata": {
        "colab": {
          "base_uri": "https://localhost:8080/"
        },
        "id": "p6GgacKHW1j3",
        "outputId": "57beedbd-56fb-4227-c431-475f75340124"
      },
      "execution_count": 100,
      "outputs": [
        {
          "output_type": "execute_result",
          "data": {
            "text/plain": [
              "10841"
            ]
          },
          "metadata": {},
          "execution_count": 100
        }
      ]
    },
    {
      "cell_type": "code",
      "source": [
        "df.printSchema()"
      ],
      "metadata": {
        "colab": {
          "base_uri": "https://localhost:8080/"
        },
        "id": "lKlfFt1SXZRd",
        "outputId": "bd302a60-570f-4b47-bdc0-31bc33c173f5"
      },
      "execution_count": 101,
      "outputs": [
        {
          "output_type": "stream",
          "name": "stdout",
          "text": [
            "root\n",
            " |-- App: string (nullable = true)\n",
            " |-- Category: string (nullable = true)\n",
            " |-- Rating: string (nullable = true)\n",
            " |-- Reviews: string (nullable = true)\n",
            " |-- Size: string (nullable = true)\n",
            " |-- Installs: string (nullable = true)\n",
            " |-- Type: string (nullable = true)\n",
            " |-- Price: string (nullable = true)\n",
            " |-- Content Rating: string (nullable = true)\n",
            " |-- Genres: string (nullable = true)\n",
            " |-- Last Updated: string (nullable = true)\n",
            " |-- Current Ver: string (nullable = true)\n",
            " |-- Android Ver: string (nullable = true)\n",
            "\n"
          ]
        }
      ]
    },
    {
      "cell_type": "code",
      "source": [
        "df = df.drop(\"Size\", \"Content Rating\", \"Last Updated\", \"Android Ver\", \"Current Ver\")"
      ],
      "metadata": {
        "id": "suebArL7Xd9W"
      },
      "execution_count": 102,
      "outputs": []
    },
    {
      "cell_type": "code",
      "source": [
        "df.show(2)"
      ],
      "metadata": {
        "colab": {
          "base_uri": "https://localhost:8080/"
        },
        "id": "_GfEpIgJidXa",
        "outputId": "c426b1b0-3f52-4885-85fe-d557e1f268bf"
      },
      "execution_count": 103,
      "outputs": [
        {
          "output_type": "stream",
          "name": "stdout",
          "text": [
            "+--------------------+--------------+------+-------+--------+----+-----+--------------------+\n",
            "|                 App|      Category|Rating|Reviews|Installs|Type|Price|              Genres|\n",
            "+--------------------+--------------+------+-------+--------+----+-----+--------------------+\n",
            "|Photo Editor & Ca...|ART_AND_DESIGN|   4.1|    159| 10,000+|Free|    0|        Art & Design|\n",
            "| Coloring book moana|ART_AND_DESIGN|   3.9|    967|500,000+|Free|    0|Art & Design;Pret...|\n",
            "+--------------------+--------------+------+-------+--------+----+-----+--------------------+\n",
            "only showing top 2 rows\n",
            "\n"
          ]
        }
      ]
    },
    {
      "cell_type": "code",
      "source": [
        "from pyspark.sql.types import DoubleType"
      ],
      "metadata": {
        "id": "334CFbdIjv9O"
      },
      "execution_count": 104,
      "outputs": []
    },
    {
      "cell_type": "code",
      "source": [
        "df = df.withColumn(\"Rating\", col(\"Rating\").cast(DoubleType()))\\\n",
        ".withColumn(\"Reviews\", col(\"Reviews\").cast(IntegerType()))"
      ],
      "metadata": {
        "id": "rn9kq9EnjGnG"
      },
      "execution_count": 105,
      "outputs": []
    },
    {
      "cell_type": "code",
      "source": [
        "df = df.fillna(0, 'Rating')"
      ],
      "metadata": {
        "id": "tvAZmSGFqss_"
      },
      "execution_count": 106,
      "outputs": []
    },
    {
      "cell_type": "code",
      "source": [
        "df.select('Rating').distinct().show()"
      ],
      "metadata": {
        "colab": {
          "base_uri": "https://localhost:8080/"
        },
        "id": "qwEo5JWl4TOB",
        "outputId": "6288ca25-46ab-404e-83f0-fba5359863e9"
      },
      "execution_count": 107,
      "outputs": [
        {
          "output_type": "stream",
          "name": "stdout",
          "text": [
            "+------+\n",
            "|Rating|\n",
            "+------+\n",
            "|   2.4|\n",
            "|   0.0|\n",
            "|   3.5|\n",
            "|   2.9|\n",
            "|   3.7|\n",
            "|   1.4|\n",
            "|   2.3|\n",
            "|   4.9|\n",
            "|   3.1|\n",
            "|   4.2|\n",
            "|   4.5|\n",
            "|   1.7|\n",
            "|   3.4|\n",
            "|   2.5|\n",
            "|   1.0|\n",
            "|   2.7|\n",
            "|   4.1|\n",
            "|   2.2|\n",
            "|   2.8|\n",
            "|   4.0|\n",
            "+------+\n",
            "only showing top 20 rows\n",
            "\n"
          ]
        }
      ]
    },
    {
      "cell_type": "code",
      "source": [
        "df.show()"
      ],
      "metadata": {
        "colab": {
          "base_uri": "https://localhost:8080/"
        },
        "id": "qI8MLg0EsEt9",
        "outputId": "79cf8a57-9932-425f-81b1-bf0e605139d2"
      },
      "execution_count": 108,
      "outputs": [
        {
          "output_type": "stream",
          "name": "stdout",
          "text": [
            "+--------------------+--------------+------+-------+-----------+----+-----+--------------------+\n",
            "|                 App|      Category|Rating|Reviews|   Installs|Type|Price|              Genres|\n",
            "+--------------------+--------------+------+-------+-----------+----+-----+--------------------+\n",
            "|Photo Editor & Ca...|ART_AND_DESIGN|   4.1|    159|    10,000+|Free|    0|        Art & Design|\n",
            "| Coloring book moana|ART_AND_DESIGN|   3.9|    967|   500,000+|Free|    0|Art & Design;Pret...|\n",
            "|U Launcher Lite –...|ART_AND_DESIGN|   4.7|  87510| 5,000,000+|Free|    0|        Art & Design|\n",
            "|Sketch - Draw & P...|ART_AND_DESIGN|   4.5| 215644|50,000,000+|Free|    0|        Art & Design|\n",
            "|Pixel Draw - Numb...|ART_AND_DESIGN|   4.3|    967|   100,000+|Free|    0|Art & Design;Crea...|\n",
            "|Paper flowers ins...|ART_AND_DESIGN|   4.4|    167|    50,000+|Free|    0|        Art & Design|\n",
            "|Smoke Effect Phot...|ART_AND_DESIGN|   3.8|    178|    50,000+|Free|    0|        Art & Design|\n",
            "|    Infinite Painter|ART_AND_DESIGN|   4.1|  36815| 1,000,000+|Free|    0|        Art & Design|\n",
            "|Garden Coloring Book|ART_AND_DESIGN|   4.4|  13791| 1,000,000+|Free|    0|        Art & Design|\n",
            "|Kids Paint Free -...|ART_AND_DESIGN|   4.7|    121|    10,000+|Free|    0|Art & Design;Crea...|\n",
            "|Text on Photo - F...|ART_AND_DESIGN|   4.4|  13880| 1,000,000+|Free|    0|        Art & Design|\n",
            "|Name Art Photo Ed...|ART_AND_DESIGN|   4.4|   8788| 1,000,000+|Free|    0|        Art & Design|\n",
            "|Tattoo Name On My...|ART_AND_DESIGN|   4.2|  44829|10,000,000+|Free|    0|        Art & Design|\n",
            "|Mandala Coloring ...|ART_AND_DESIGN|   4.6|   4326|   100,000+|Free|    0|        Art & Design|\n",
            "|3D Color Pixel by...|ART_AND_DESIGN|   4.4|   1518|   100,000+|Free|    0|        Art & Design|\n",
            "|Learn To Draw Kaw...|ART_AND_DESIGN|   3.2|     55|     5,000+|Free|    0|        Art & Design|\n",
            "|Photo Designer - ...|ART_AND_DESIGN|   4.7|   3632|   500,000+|Free|    0|        Art & Design|\n",
            "|350 Diy Room Deco...|ART_AND_DESIGN|   4.5|     27|    10,000+|Free|    0|        Art & Design|\n",
            "|FlipaClip - Carto...|ART_AND_DESIGN|   4.3| 194216| 5,000,000+|Free|    0|        Art & Design|\n",
            "|        ibis Paint X|ART_AND_DESIGN|   4.6| 224399|10,000,000+|Free|    0|        Art & Design|\n",
            "+--------------------+--------------+------+-------+-----------+----+-----+--------------------+\n",
            "only showing top 20 rows\n",
            "\n"
          ]
        }
      ]
    },
    {
      "cell_type": "code",
      "source": [
        "df = df.withColumn(\"Installs\", regexp_replace(col(\"Installs\"), \"[^0-9]\", \"\"))\\\n",
        ".withColumn(\"Price\", regexp_replace(col(\"Price\"),\"[$]\", \"\"))"
      ],
      "metadata": {
        "id": "eSI9WMsktzCW"
      },
      "execution_count": 109,
      "outputs": []
    },
    {
      "cell_type": "code",
      "source": [
        "df.show()"
      ],
      "metadata": {
        "colab": {
          "base_uri": "https://localhost:8080/"
        },
        "id": "i2EgyGtHvVEf",
        "outputId": "cb2da961-5d8e-4530-b046-247bdc387d40"
      },
      "execution_count": 110,
      "outputs": [
        {
          "output_type": "stream",
          "name": "stdout",
          "text": [
            "+--------------------+--------------+------+-------+--------+----+-----+--------------------+\n",
            "|                 App|      Category|Rating|Reviews|Installs|Type|Price|              Genres|\n",
            "+--------------------+--------------+------+-------+--------+----+-----+--------------------+\n",
            "|Photo Editor & Ca...|ART_AND_DESIGN|   4.1|    159|   10000|Free|    0|        Art & Design|\n",
            "| Coloring book moana|ART_AND_DESIGN|   3.9|    967|  500000|Free|    0|Art & Design;Pret...|\n",
            "|U Launcher Lite –...|ART_AND_DESIGN|   4.7|  87510| 5000000|Free|    0|        Art & Design|\n",
            "|Sketch - Draw & P...|ART_AND_DESIGN|   4.5| 215644|50000000|Free|    0|        Art & Design|\n",
            "|Pixel Draw - Numb...|ART_AND_DESIGN|   4.3|    967|  100000|Free|    0|Art & Design;Crea...|\n",
            "|Paper flowers ins...|ART_AND_DESIGN|   4.4|    167|   50000|Free|    0|        Art & Design|\n",
            "|Smoke Effect Phot...|ART_AND_DESIGN|   3.8|    178|   50000|Free|    0|        Art & Design|\n",
            "|    Infinite Painter|ART_AND_DESIGN|   4.1|  36815| 1000000|Free|    0|        Art & Design|\n",
            "|Garden Coloring Book|ART_AND_DESIGN|   4.4|  13791| 1000000|Free|    0|        Art & Design|\n",
            "|Kids Paint Free -...|ART_AND_DESIGN|   4.7|    121|   10000|Free|    0|Art & Design;Crea...|\n",
            "|Text on Photo - F...|ART_AND_DESIGN|   4.4|  13880| 1000000|Free|    0|        Art & Design|\n",
            "|Name Art Photo Ed...|ART_AND_DESIGN|   4.4|   8788| 1000000|Free|    0|        Art & Design|\n",
            "|Tattoo Name On My...|ART_AND_DESIGN|   4.2|  44829|10000000|Free|    0|        Art & Design|\n",
            "|Mandala Coloring ...|ART_AND_DESIGN|   4.6|   4326|  100000|Free|    0|        Art & Design|\n",
            "|3D Color Pixel by...|ART_AND_DESIGN|   4.4|   1518|  100000|Free|    0|        Art & Design|\n",
            "|Learn To Draw Kaw...|ART_AND_DESIGN|   3.2|     55|    5000|Free|    0|        Art & Design|\n",
            "|Photo Designer - ...|ART_AND_DESIGN|   4.7|   3632|  500000|Free|    0|        Art & Design|\n",
            "|350 Diy Room Deco...|ART_AND_DESIGN|   4.5|     27|   10000|Free|    0|        Art & Design|\n",
            "|FlipaClip - Carto...|ART_AND_DESIGN|   4.3| 194216| 5000000|Free|    0|        Art & Design|\n",
            "|        ibis Paint X|ART_AND_DESIGN|   4.6| 224399|10000000|Free|    0|        Art & Design|\n",
            "+--------------------+--------------+------+-------+--------+----+-----+--------------------+\n",
            "only showing top 20 rows\n",
            "\n"
          ]
        }
      ]
    },
    {
      "cell_type": "code",
      "source": [
        "df = df.withColumn(\"Installs\", col(\"Installs\").cast(IntegerType()))\\\n",
        ".withColumn(\"Price\", col(\"Price\").cast(IntegerType()))"
      ],
      "metadata": {
        "id": "TLFTmJmyw1qV"
      },
      "execution_count": 111,
      "outputs": []
    },
    {
      "cell_type": "code",
      "source": [
        "df.printSchema()"
      ],
      "metadata": {
        "colab": {
          "base_uri": "https://localhost:8080/"
        },
        "id": "mSdi49kE1dJx",
        "outputId": "06d87f8a-4cac-4862-c4ae-43f0b92a50d2"
      },
      "execution_count": 112,
      "outputs": [
        {
          "output_type": "stream",
          "name": "stdout",
          "text": [
            "root\n",
            " |-- App: string (nullable = true)\n",
            " |-- Category: string (nullable = true)\n",
            " |-- Rating: double (nullable = false)\n",
            " |-- Reviews: integer (nullable = true)\n",
            " |-- Installs: integer (nullable = true)\n",
            " |-- Type: string (nullable = true)\n",
            " |-- Price: integer (nullable = true)\n",
            " |-- Genres: string (nullable = true)\n",
            "\n"
          ]
        }
      ]
    },
    {
      "cell_type": "code",
      "source": [
        "top_reviews = df.select(\"App\", \"Reviews\")\\\n",
        "                .orderBy(col(\"Reviews\").desc()).limit(10)\n",
        "top_reviews.show()"
      ],
      "metadata": {
        "colab": {
          "base_uri": "https://localhost:8080/"
        },
        "id": "U-XySvTm17c3",
        "outputId": "3b9a1232-f18b-4afd-f1f6-8f9dc6224ca8"
      },
      "execution_count": 113,
      "outputs": [
        {
          "output_type": "stream",
          "name": "stdout",
          "text": [
            "+--------------------+--------+\n",
            "|                 App| Reviews|\n",
            "+--------------------+--------+\n",
            "|            Facebook|78158306|\n",
            "|            Facebook|78128208|\n",
            "|  WhatsApp Messenger|69119316|\n",
            "|  WhatsApp Messenger|69119316|\n",
            "|  WhatsApp Messenger|69109672|\n",
            "|           Instagram|66577446|\n",
            "|           Instagram|66577313|\n",
            "|           Instagram|66577313|\n",
            "|           Instagram|66509917|\n",
            "|Messenger – Text ...|56646578|\n",
            "+--------------------+--------+\n",
            "\n"
          ]
        }
      ]
    },
    {
      "cell_type": "code",
      "source": [
        "from typing import OrderedDict\n",
        "top_installs = df.select(\"App\", \"Installs\")\\\n",
        "                 .orderBy(col(\"Installs\").desc()).limit(10)\n",
        "top_installs.show()"
      ],
      "metadata": {
        "colab": {
          "base_uri": "https://localhost:8080/"
        },
        "id": "2WkrGN-WBFnu",
        "outputId": "38ff62fc-4fe7-498b-b803-d88ef7a6a54e"
      },
      "execution_count": 114,
      "outputs": [
        {
          "output_type": "stream",
          "name": "stdout",
          "text": [
            "+--------------------+----------+\n",
            "|                 App|  Installs|\n",
            "+--------------------+----------+\n",
            "|            Hangouts|1000000000|\n",
            "|Google Chrome: Fa...|1000000000|\n",
            "|   Google Play Books|1000000000|\n",
            "|  WhatsApp Messenger|1000000000|\n",
            "|Messenger – Text ...|1000000000|\n",
            "|Messenger – Text ...|1000000000|\n",
            "|               Gmail|1000000000|\n",
            "|            Hangouts|1000000000|\n",
            "|Google Chrome: Fa...|1000000000|\n",
            "|Skype - free IM &...|1000000000|\n",
            "+--------------------+----------+\n",
            "\n"
          ]
        }
      ]
    },
    {
      "cell_type": "code",
      "source": [
        "category_distribution = df.groupBy(\"Category\")\\\n",
        "                          .agg(sum(col(\"Installs\")).alias(\"Total_Installs\"))\\\n",
        "                          .orderBy(col(\"Total_Installs\").desc())\n",
        "category_distribution.show(10)"
      ],
      "metadata": {
        "colab": {
          "base_uri": "https://localhost:8080/"
        },
        "id": "PWM_avM3BQaK",
        "outputId": "530c377a-9879-444d-f0ef-4f097fd97469"
      },
      "execution_count": 115,
      "outputs": [
        {
          "output_type": "stream",
          "name": "stdout",
          "text": [
            "+------------------+--------------+\n",
            "|          Category|Total_Installs|\n",
            "+------------------+--------------+\n",
            "|              GAME|   35086024415|\n",
            "|     COMMUNICATION|   32647276251|\n",
            "|      PRODUCTIVITY|   14176091369|\n",
            "|            SOCIAL|   14069867902|\n",
            "|             TOOLS|   11452771915|\n",
            "|            FAMILY|   10258263505|\n",
            "|       PHOTOGRAPHY|   10088247655|\n",
            "|NEWS_AND_MAGAZINES|    7496317760|\n",
            "|  TRAVEL_AND_LOCAL|    6868887146|\n",
            "|     VIDEO_PLAYERS|    6222002720|\n",
            "+------------------+--------------+\n",
            "only showing top 10 rows\n",
            "\n"
          ]
        }
      ]
    },
    {
      "cell_type": "code",
      "source": [
        "top_paid_apps = df.filter(col(\"Type\") == \"Paid\")\\\n",
        "                  .orderBy(col(\"Installs\").desc())\\\n",
        "                  .limit(10)\n",
        "top_paid_apps.show(10)"
      ],
      "metadata": {
        "colab": {
          "base_uri": "https://localhost:8080/"
        },
        "id": "VASv93aaonj0",
        "outputId": "1da15647-3ab7-4870-d1ca-f0601428faf8"
      },
      "execution_count": 116,
      "outputs": [
        {
          "output_type": "stream",
          "name": "stdout",
          "text": [
            "+--------------------+---------------+------+-------+--------+----+-----+--------------------+\n",
            "|                 App|       Category|Rating|Reviews|Installs|Type|Price|              Genres|\n",
            "+--------------------+---------------+------+-------+--------+----+-----+--------------------+\n",
            "|           Minecraft|         FAMILY|   4.5|2376564|10000000|Paid|    6|Arcade;Action & A...|\n",
            "|       Hitman Sniper|           GAME|   4.6| 408292|10000000|Paid|    0|              Action|\n",
            "|           Minecraft|         FAMILY|   4.5|2375336|10000000|Paid|    6|Arcade;Action & A...|\n",
            "| Facetune - For Free|    PHOTOGRAPHY|   4.4|  49553| 1000000|Paid|    5|         Photography|\n",
            "|Zombie Avengers:(...|           GAME|   4.3|  13604| 1000000|Paid|    0|              Action|\n",
            "|   Cut the Rope GOLD|         FAMILY|   4.6|  61264| 1000000|Paid|    0|              Puzzle|\n",
            "|          True Skate|         SPORTS|   4.4| 129409| 1000000|Paid|    1|              Sports|\n",
            "|Beautiful Widgets...|PERSONALIZATION|   4.2|  97890| 1000000|Paid|    2|     Personalization|\n",
            "|Sleep as Android ...|      LIFESTYLE|   4.5|  23966| 1000000|Paid|    5|           Lifestyle|\n",
            "|Card Wars - Adven...|         FAMILY|   4.3| 129603| 1000000|Paid|    2|Card;Action & Adv...|\n",
            "+--------------------+---------------+------+-------+--------+----+-----+--------------------+\n",
            "\n"
          ]
        }
      ]
    },
    {
      "cell_type": "code",
      "source": [
        "top_paid_rating_apps = df.filter(col(\"Type\") == \"Paid\")\\\n",
        "                         .orderBy(col(\"Rating\").desc())\\\n",
        "                         .limit(10)\n",
        "top_paid_rating_apps.show()"
      ],
      "metadata": {
        "colab": {
          "base_uri": "https://localhost:8080/"
        },
        "id": "NKJe_qobpEN_",
        "outputId": "ffb2e952-da75-490a-df28-f864404bdf45"
      },
      "execution_count": 117,
      "outputs": [
        {
          "output_type": "stream",
          "name": "stdout",
          "text": [
            "+--------------------+---------------+------+-------+--------+----+-----+---------------+\n",
            "|                 App|       Category|Rating|Reviews|Installs|Type|Price|         Genres|\n",
            "+--------------------+---------------+------+-------+--------+----+-----+---------------+\n",
            "|     P-Home for KLWP|PERSONALIZATION|   5.0|      4|     100|Paid|    0|Personalization|\n",
            "|            Ra Ga Ba|           GAME|   5.0|      2|       1|Paid|    1|         Arcade|\n",
            "|Android P Style I...|PERSONALIZATION|   5.0|      1|     100|Paid|    0|Personalization|\n",
            "|Super Hearing Sec...|        MEDICAL|   5.0|      3|     100|Paid|    2|        Medical|\n",
            "|Easy Hotspot Ad Free|          TOOLS|   5.0|      2|      10|Paid|    0|          Tools|\n",
            "|AJ Gray Dark Icon...|PERSONALIZATION|   5.0|      2|      10|Paid|    0|Personalization|\n",
            "|AP Art History Fl...|         FAMILY|   5.0|      1|      10|Paid|   29|      Education|\n",
            "|   AJ Blue Icon Pack|PERSONALIZATION|   5.0|      4|      50|Paid|    0|Personalization|\n",
            "|        ADS-B Driver|          TOOLS|   5.0|      2|     100|Paid|    1|          Tools|\n",
            "|meStudying: AP En...|         FAMILY|   5.0|      1|      10|Paid|    4|      Education|\n",
            "+--------------------+---------------+------+-------+--------+----+-----+---------------+\n",
            "\n"
          ]
        }
      ]
    },
    {
      "cell_type": "code",
      "source": [],
      "metadata": {
        "id": "u1vK8nUZpqKi"
      },
      "execution_count": 118,
      "outputs": []
    },
    {
      "cell_type": "code",
      "source": [],
      "metadata": {
        "id": "MhRb3g12s1TG"
      },
      "execution_count": null,
      "outputs": []
    }
  ]
}